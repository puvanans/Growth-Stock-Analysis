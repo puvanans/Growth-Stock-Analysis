{
 "cells": [
  {
   "cell_type": "code",
   "execution_count": null,
   "id": "3aaa42fe-ac7d-4205-aba6-0a95dafb1036",
   "metadata": {},
   "outputs": [],
   "source": [
    "import numpy as np\n",
    "import pandas as pd\n",
    "import seaborn as sns\n",
    "import matplotlib.pyplot as plt\n",
    "import yfinance as yf\n",
    "\n"
   ]
  },
  {
   "cell_type": "code",
   "execution_count": null,
   "id": "714f9bd0-89b6-4ea0-bd68-9a26b2976e0b",
   "metadata": {},
   "outputs": [],
   "source": [
    "# Historical data for multiple companies areobtained here with the download module.\n",
    "# Here we obtain the information onstock trend for the year 2022 till today's date, and date is included as a column with the reset_index() method\n",
    "data = yf.download(\" SPY AMZN CEG FLT GOOG HAL JCI META MTCH TMUS URI\",period = 'ytd',threads = True).reset_index()\n",
    "data.head()"
   ]
  },
  {
   "cell_type": "code",
   "execution_count": null,
   "id": "0bdde04c-13ad-469b-808e-4261b93ad29c",
   "metadata": {},
   "outputs": [],
   "source": [
    "# We create a dataframe depicting the closing prices of the growth stocks.\n",
    "# This achieved by concatenating a series containing the respective date along with the closing prices for the stocks and that particular date\n",
    "\n",
    "frames = (data['Date'],data['Close'])\n",
    "growthStockTrend = pd.concat(frames, axis = 1)\n",
    "\n",
    "growthStockTrend.info()"
   ]
  }
 ],
 "metadata": {
  "kernelspec": {
   "display_name": "Python 3 (ipykernel)",
   "language": "python",
   "name": "python3"
  },
  "language_info": {
   "codemirror_mode": {
    "name": "ipython",
    "version": 3
   },
   "file_extension": ".py",
   "mimetype": "text/x-python",
   "name": "python",
   "nbconvert_exporter": "python",
   "pygments_lexer": "ipython3",
   "version": "3.10.6"
  }
 },
 "nbformat": 4,
 "nbformat_minor": 5
}
