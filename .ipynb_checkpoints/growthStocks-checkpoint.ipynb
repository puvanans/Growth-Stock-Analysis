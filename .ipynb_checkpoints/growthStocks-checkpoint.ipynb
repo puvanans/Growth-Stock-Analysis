{
 "cells": [
  {
   "cell_type": "code",
   "execution_count": 163,
   "id": "3aaa42fe-ac7d-4205-aba6-0a95dafb1036",
   "metadata": {},
   "outputs": [],
   "source": [
    "import numpy as np\n",
    "import pandas as pd\n",
    "import seaborn as sns\n",
    "import matplotlib.pyplot as plt\n",
    "import yfinance as yf\n",
    "\n"
   ]
  },
  {
   "cell_type": "code",
   "execution_count": 164,
   "id": "59f47b9b-1d24-4d89-85af-f09d180ceb0c",
   "metadata": {},
   "outputs": [],
   "source": [
    "# This function makes use of the Ticker() module in the Yfinance package to individual objects which represent the companies being analysed and the market (S&P 500)\n",
    "def getStocks():\n",
    "    global Amazon \n",
    "    Amazon = yf.Ticker('AMZN')\n",
    "    global consEG \n",
    "    consEG = yf.Ticker('CEG')\n",
    "    global FleetCor \n",
    "    FleetCor = yf.Ticker('FLT')\n",
    "    global Google \n",
    "    Google = yf.Ticker('GOOG')\n",
    "    global Halliburton \n",
    "    Halliburton = yf.Ticker('HAL')\n",
    "    global johnsonCI \n",
    "    johnsonCI = yf.Ticker('JCI')\n",
    "    global Meta \n",
    "    Meta = yf.Ticker('META')\n",
    "    global Match \n",
    "    Match = yf.Ticker('MTCH')\n",
    "    global tMobile \n",
    "    tMobile = yf.Ticker('TMUS')\n",
    "    global unitedRent \n",
    "    unitedRent = yf.Ticker('URI')\n",
    "    global SandP\n",
    "    SandP = yf.Ticker('SPY')\n",
    "    \n",
    "getStocks()\n"
   ]
  },
  {
   "cell_type": "code",
   "execution_count": 165,
   "id": "f99250f5-446a-4720-a31b-24ce1187a2c2",
   "metadata": {},
   "outputs": [],
   "source": [
    "# This function is built on the previous function to obtain the data of the year-to-date data on these stocks and the market (S&P 500)\n",
    "def getData():\n",
    "    global amazonData\n",
    "    amazonData = Amazon.history(period = 'ytd', interval = '1d')\n",
    "    global consegData\n",
    "    consegData = consEG.history(period = 'ytd', interval = '1d')\n",
    "    global fltData\n",
    "    fltData = FleetCor.history(period = 'ytd', interval = '1d')\n",
    "    global googleData\n",
    "    googleData = Google.history(period = 'ytd', interval = '1d')\n",
    "    global halliBurtData\n",
    "    halliBurtData = Amazon.history(period = 'ytd', interval = '1d')\n",
    "    global johnsonData\n",
    "    johnsonData = johnsonCI.history(period = 'ytd', interval = '1d')\n",
    "    global metaData\n",
    "    metaData = Meta.history(period = 'ytd', interval = '1d')\n",
    "    global matchData\n",
    "    matchData = Match.history(period = 'ytd', interval = '1d')\n",
    "    global tMobData\n",
    "    tMobData = tMobile.history(period = 'ytd', interval = '1d')\n",
    "    global uniRenData\n",
    "    uniRenData = unitedRent.history(period = 'ytd', interval = '1d')\n",
    "    global SandPData\n",
    "    SandPData = SandP.history(period = 'ytd', interval = '1d')\n",
    "\n",
    "getData()"
   ]
  }
 ],
 "metadata": {
  "kernelspec": {
   "display_name": "Python 3 (ipykernel)",
   "language": "python",
   "name": "python3"
  },
  "language_info": {
   "codemirror_mode": {
    "name": "ipython",
    "version": 3
   },
   "file_extension": ".py",
   "mimetype": "text/x-python",
   "name": "python",
   "nbconvert_exporter": "python",
   "pygments_lexer": "ipython3",
   "version": "3.10.6"
  }
 },
 "nbformat": 4,
 "nbformat_minor": 5
}
